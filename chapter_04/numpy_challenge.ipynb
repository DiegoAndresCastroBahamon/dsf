{
  "nbformat": 4,
  "nbformat_minor": 0,
  "metadata": {
    "colab": {
      "name": "numpy_challenge.ipynb",
      "provenance": [],
      "include_colab_link": true
    },
    "kernelspec": {
      "name": "python3",
      "display_name": "Python 3"
    }
  },
  "cells": [
    {
      "cell_type": "markdown",
      "metadata": {
        "id": "view-in-github",
        "colab_type": "text"
      },
      "source": [
        "<a href=\"https://colab.research.google.com/github/DiegoAndresCastroBahamon/dsf/blob/main/chapter_04/numpy_challenge.ipynb\" target=\"_parent\"><img src=\"https://colab.research.google.com/assets/colab-badge.svg\" alt=\"Open In Colab\"/></a>"
      ]
    },
    {
      "cell_type": "markdown",
      "metadata": {
        "id": "sVyBG_cKTAwL"
      },
      "source": [
        "#NumPy Challenge"
      ]
    },
    {
      "cell_type": "markdown",
      "metadata": {
        "id": "NSnRQUO1RDEh"
      },
      "source": [
        "Create a NumPy ndarray object by using this list of numbers [7,8,4,5,1,2].\n"
      ]
    },
    {
      "cell_type": "code",
      "metadata": {
        "id": "P-2GBUw-Q60r",
        "colab": {
          "base_uri": "https://localhost:8080/"
        },
        "outputId": "0439789d-0627-426f-fa92-0354fe01b0fe"
      },
      "source": [
        "import numpy as np\n",
        "\n",
        "numbers_list = [7, 8, 4, 5, 1, 2]\n",
        "numbers_array = np.array(numbers_list)\n",
        "\n",
        "print(numbers_array)\n"
      ],
      "execution_count": 1,
      "outputs": [
        {
          "output_type": "stream",
          "name": "stdout",
          "text": [
            "[7 8 4 5 1 2]\n"
          ]
        }
      ]
    },
    {
      "cell_type": "markdown",
      "metadata": {
        "id": "zSoe7IVrQ9Gw"
      },
      "source": [
        "Using slicing print the elements from index 3 to the end of the array.\n",
        "\n"
      ]
    },
    {
      "cell_type": "code",
      "metadata": {
        "id": "XUVmHemyRM_K",
        "colab": {
          "base_uri": "https://localhost:8080/"
        },
        "outputId": "e9ea7540-2a7a-489c-b610-3183427b27f0"
      },
      "source": [
        "import numpy as np\n",
        "\n",
        "numbers_list = [7, 8, 4, 5, 1, 2]\n",
        "numbers_array = np.array(numbers_list)\n",
        "\n",
        "sliced_elements = numbers_array[3:]\n",
        "\n",
        "print(sliced_elements)\n"
      ],
      "execution_count": 2,
      "outputs": [
        {
          "output_type": "stream",
          "name": "stdout",
          "text": [
            "[5 1 2]\n"
          ]
        }
      ]
    },
    {
      "cell_type": "markdown",
      "metadata": {
        "id": "DejW1hk-ROcM"
      },
      "source": [
        "Using slicing print all the elements except the last one.\n",
        "\n",
        "1.   Elemento de lista\n",
        "2.   Elemento de lista\n",
        "\n",
        "\n",
        "\n"
      ]
    },
    {
      "cell_type": "code",
      "metadata": {
        "id": "W-1sPgknSbQg",
        "colab": {
          "base_uri": "https://localhost:8080/"
        },
        "outputId": "b61cfce1-a7c3-4320-fbeb-4c9f653a1d02"
      },
      "source": [
        "import numpy as np\n",
        "\n",
        "numbers_list = [7, 8, 4, 5, 1, 2]\n",
        "numbers_array = np.array(numbers_list)\n",
        "\n",
        "sliced_elements = numbers_array[:-1]\n",
        "\n",
        "print(sliced_elements)\n"
      ],
      "execution_count": 3,
      "outputs": [
        {
          "output_type": "stream",
          "name": "stdout",
          "text": [
            "[7 8 4 5 1]\n"
          ]
        }
      ]
    },
    {
      "cell_type": "markdown",
      "metadata": {
        "id": "kTE3PxezRSFu"
      },
      "source": [
        "Using slicing print the elements from index 1 to index 4 of the array.\n",
        "\n"
      ]
    },
    {
      "cell_type": "code",
      "metadata": {
        "id": "KyuRjCKBRWNO",
        "colab": {
          "base_uri": "https://localhost:8080/"
        },
        "outputId": "9c78d70c-3a56-459b-d644-7a8308b7191d"
      },
      "source": [
        "import numpy as np\n",
        "\n",
        "array = np.array([10, 20, 30, 40, 50, 60, 70])\n",
        "elementsToPrint = array[1:5]\n",
        "\n",
        "print(elementsToPrint)\n"
      ],
      "execution_count": 4,
      "outputs": [
        {
          "output_type": "stream",
          "name": "stdout",
          "text": [
            "[20 30 40 50]\n"
          ]
        }
      ]
    },
    {
      "cell_type": "markdown",
      "metadata": {
        "id": "HlHIAmE3RW9U"
      },
      "source": [
        "Reshape the array into a 3 rows and 2 cols (3,2).\n",
        "\n"
      ]
    },
    {
      "cell_type": "code",
      "metadata": {
        "id": "Mh65VUorRZV6",
        "colab": {
          "base_uri": "https://localhost:8080/"
        },
        "outputId": "2684dd0a-4d6b-415c-ef8b-7b4beaf6cc38"
      },
      "source": [
        "import numpy as np\n",
        "\n",
        "array = np.array([10, 20, 30, 40, 50, 60])\n",
        "array.shape = (3, 2)\n",
        "\n",
        "print(array)\n"
      ],
      "execution_count": 10,
      "outputs": [
        {
          "output_type": "stream",
          "name": "stdout",
          "text": [
            "[[10 20]\n",
            " [30 40]\n",
            " [50 60]]\n"
          ]
        }
      ]
    },
    {
      "cell_type": "markdown",
      "metadata": {
        "id": "7EA2AxnKRZ-B"
      },
      "source": [
        "Print all the array elements one by one (iterating).\n",
        "\n"
      ]
    },
    {
      "cell_type": "code",
      "metadata": {
        "id": "NA_5SBc9SFNn",
        "colab": {
          "base_uri": "https://localhost:8080/"
        },
        "outputId": "26b46673-2b6a-4655-c8f2-b17d5cccdace"
      },
      "source": [
        "import numpy as np\n",
        "\n",
        "array = np.array([[10, 20],\n",
        "                     [30, 40],\n",
        "                     [50, 60]])\n",
        "\n",
        "for row in array:\n",
        "    for element in row:\n",
        "        print(element)\n"
      ],
      "execution_count": 11,
      "outputs": [
        {
          "output_type": "stream",
          "name": "stdout",
          "text": [
            "10\n",
            "20\n",
            "30\n",
            "40\n",
            "50\n",
            "60\n"
          ]
        }
      ]
    },
    {
      "cell_type": "markdown",
      "metadata": {
        "id": "gmDsX1y1RcsQ"
      },
      "source": [
        "Create a new NumPy ndarray object by using this list of numbers [0,6,9].\n",
        "\n"
      ]
    },
    {
      "cell_type": "code",
      "metadata": {
        "id": "VmE_QUleSD_P",
        "colab": {
          "base_uri": "https://localhost:8080/"
        },
        "outputId": "20225525-2e54-4776-81ab-68c8e8070cf2"
      },
      "source": [
        "import numpy as np\n",
        "\n",
        "numbersList = [3, 3, 3]\n",
        "newArray = np.array(numbersList)\n",
        "\n",
        "print(newArray)\n"
      ],
      "execution_count": 13,
      "outputs": [
        {
          "output_type": "stream",
          "name": "stdout",
          "text": [
            "[3 3 3]\n"
          ]
        }
      ]
    },
    {
      "cell_type": "markdown",
      "metadata": {
        "id": "jloT--lqRf7j"
      },
      "source": [
        "Join the two arrays.\n",
        "\n"
      ]
    },
    {
      "cell_type": "code",
      "metadata": {
        "id": "unD39X5dSDSn",
        "colab": {
          "base_uri": "https://localhost:8080/"
        },
        "outputId": "f8570a31-5473-4101-9f6d-d5986798bef5"
      },
      "source": [
        "import numpy as np\n",
        "\n",
        "numbers = [7, 8, 4, 5, 1, 2]\n",
        "num_array = np.array(numbers)\n",
        "\n",
        "new_numbers = [0, 6, 9]\n",
        "new_num_array = np.array(new_numbers)\n",
        "\n",
        "concatenated_array = np.concatenate((num_array, new_num_array))\n",
        "\n",
        "print(concatenated_array)"
      ],
      "execution_count": 38,
      "outputs": [
        {
          "output_type": "stream",
          "name": "stdout",
          "text": [
            "[7 8 4 5 1 2 0 6 9]\n"
          ]
        }
      ]
    },
    {
      "cell_type": "markdown",
      "metadata": {
        "id": "XfoeRhPERjPR"
      },
      "source": [
        "Using filtering print only the odd numbers of the joined array.\n",
        "\n"
      ]
    },
    {
      "cell_type": "code",
      "metadata": {
        "id": "Be-oEmWNSCKG",
        "colab": {
          "base_uri": "https://localhost:8080/"
        },
        "outputId": "26246e62-5d08-469e-d768-df8766bc12a3"
      },
      "source": [
        "import numpy as np\n",
        "\n",
        "numbers = [7, 8, 4, 5, 1, 2]\n",
        "num_array = np.array(numbers)\n",
        "\n",
        "new_numbers = [0, 6, 9]\n",
        "new_num_array = np.array(new_numbers)\n",
        "\n",
        "concatenated_array = np.concatenate((num_array, new_num_array))\n",
        "\n",
        "odd_numbers = concatenated_array[concatenated_array % 2 != 0]\n",
        "\n",
        "print(odd_numbers)"
      ],
      "execution_count": 40,
      "outputs": [
        {
          "output_type": "stream",
          "name": "stdout",
          "text": [
            "[7 5 1 9]\n"
          ]
        }
      ]
    },
    {
      "cell_type": "markdown",
      "metadata": {
        "id": "cMZHbF4JRlwJ"
      },
      "source": [
        "Sort the joined array elements.\n",
        "\n"
      ]
    },
    {
      "cell_type": "code",
      "metadata": {
        "id": "d3ta_UTjSBb3",
        "colab": {
          "base_uri": "https://localhost:8080/"
        },
        "outputId": "0d605677-b896-4f7b-97d7-06de0ba872a7"
      },
      "source": [
        "import numpy as np\n",
        "\n",
        "numbers = [7, 8, 4, 5, 1, 2]\n",
        "num_array = np.array(numbers)\n",
        "\n",
        "new_numbers = [0, 6, 9]\n",
        "new_num_array = np.array(new_numbers)\n",
        "\n",
        "concatenated_array = np.concatenate((num_array, new_num_array))\n",
        "\n",
        "sorted_array = np.sort(concatenated_array)\n",
        "\n",
        "print(sorted_array)\n"
      ],
      "execution_count": 41,
      "outputs": [
        {
          "output_type": "stream",
          "name": "stdout",
          "text": [
            "[0 1 2 4 5 6 7 8 9]\n"
          ]
        }
      ]
    },
    {
      "cell_type": "markdown",
      "metadata": {
        "id": "F0u9Tf_pRoKR"
      },
      "source": [
        "Store in an array the names of the months.\n",
        "\n"
      ]
    },
    {
      "cell_type": "code",
      "metadata": {
        "id": "a6trOwrmSAg6",
        "colab": {
          "base_uri": "https://localhost:8080/"
        },
        "outputId": "c51b3efa-1a5e-4256-fb20-213cf277ca5f"
      },
      "source": [
        "import numpy as np\n",
        "\n",
        "months_array = np.array(['January', 'February', 'March', 'April', 'May', 'June', 'July', 'August', 'September', 'October', 'November', 'December'])\n",
        "\n",
        "print(months_array)\n"
      ],
      "execution_count": 20,
      "outputs": [
        {
          "output_type": "stream",
          "name": "stdout",
          "text": [
            "['January' 'February' 'March' 'April' 'May' 'June' 'July' 'August'\n",
            " 'September' 'October' 'November' 'December']\n"
          ]
        }
      ]
    },
    {
      "cell_type": "markdown",
      "metadata": {
        "id": "zMHje9-zRqrR"
      },
      "source": [
        "Split the months array in 4 periods of 3 elements each one.\n",
        "\n"
      ]
    },
    {
      "cell_type": "code",
      "metadata": {
        "id": "jht0_5-iR_xn",
        "colab": {
          "base_uri": "https://localhost:8080/"
        },
        "outputId": "443206c8-9b25-4837-9661-1a6d6b584b89"
      },
      "source": [
        "import numpy as np\n",
        "\n",
        "months_array = np.array(['January', 'February', 'March', 'April', 'May', 'June', 'July', 'August', 'September', 'October', 'November', 'December'])\n",
        "\n",
        "split_periods = np.split(months_array, 4)\n",
        "\n",
        "for period in split_periods:\n",
        "    print(period)\n"
      ],
      "execution_count": 21,
      "outputs": [
        {
          "output_type": "stream",
          "name": "stdout",
          "text": [
            "['January' 'February' 'March']\n",
            "['April' 'May' 'June']\n",
            "['July' 'August' 'September']\n",
            "['October' 'November' 'December']\n"
          ]
        }
      ]
    },
    {
      "cell_type": "markdown",
      "metadata": {
        "id": "ukxoOg5rRtkJ"
      },
      "source": [
        "Create an array with genre information ['F','M','F','F','M','F'].\n",
        "\n"
      ]
    },
    {
      "cell_type": "code",
      "metadata": {
        "id": "GZLCMD2OR-4G",
        "colab": {
          "base_uri": "https://localhost:8080/"
        },
        "outputId": "b72d1bf6-af22-4ebe-969f-2f8bb6e5af32"
      },
      "source": [
        "import numpy as np\n",
        "\n",
        "gender_array = np.array(['F', 'M', 'F', 'F', 'M', 'F'])\n",
        "\n",
        "print(gender_array)\n"
      ],
      "execution_count": 22,
      "outputs": [
        {
          "output_type": "stream",
          "name": "stdout",
          "text": [
            "['F' 'M' 'F' 'F' 'M' 'F']\n"
          ]
        }
      ]
    },
    {
      "cell_type": "markdown",
      "metadata": {
        "id": "VlLwuy-ERvzu"
      },
      "source": [
        "Find the indexes where the value is F.\n",
        "\n"
      ]
    },
    {
      "cell_type": "code",
      "metadata": {
        "id": "dx0LCoSAR9-w",
        "colab": {
          "base_uri": "https://localhost:8080/"
        },
        "outputId": "4ebe4dfe-b3c5-451d-9e0a-837b4ec15a2e"
      },
      "source": [
        "import numpy as np\n",
        "\n",
        "gender_array = np.array(['F', 'M', 'F', 'F', 'M', 'F'])\n",
        "\n",
        "indexes_F = np.where(gender_array == 'F')[0]\n",
        "\n",
        "print(indexes_F)\n"
      ],
      "execution_count": 23,
      "outputs": [
        {
          "output_type": "stream",
          "name": "stdout",
          "text": [
            "[0 2 3 5]\n"
          ]
        }
      ]
    },
    {
      "cell_type": "markdown",
      "metadata": {
        "id": "y0Uk475sRytB"
      },
      "source": [
        "Store in an array the age information [18,20,19,23,19,20].\n",
        "\n"
      ]
    },
    {
      "cell_type": "code",
      "metadata": {
        "id": "tABLVP7gR9QP",
        "colab": {
          "base_uri": "https://localhost:8080/"
        },
        "outputId": "1aba5d00-5d5c-4b18-9797-1b59c5989d03"
      },
      "source": [
        "import numpy as np\n",
        "\n",
        "age_array = np.array([18, 20, 19, 23, 19, 20])\n",
        "\n",
        "print(age_array)\n"
      ],
      "execution_count": 24,
      "outputs": [
        {
          "output_type": "stream",
          "name": "stdout",
          "text": [
            "[18 20 19 23 19 20]\n"
          ]
        }
      ]
    },
    {
      "cell_type": "markdown",
      "metadata": {
        "id": "D-VswLqJR05A"
      },
      "source": [
        "Create a filter array with values < 20.\n",
        "\n"
      ]
    },
    {
      "cell_type": "code",
      "metadata": {
        "id": "tk4jIi3pR8aZ",
        "colab": {
          "base_uri": "https://localhost:8080/"
        },
        "outputId": "134ce742-393c-44d9-c8d3-e424e27f8950"
      },
      "source": [
        "import numpy as np\n",
        "\n",
        "age_array = np.array([18, 20, 19, 23, 19, 20])\n",
        "\n",
        "filter_array = age_array < 20\n",
        "\n",
        "print(filter_array)\n"
      ],
      "execution_count": 25,
      "outputs": [
        {
          "output_type": "stream",
          "name": "stdout",
          "text": [
            "[ True False  True False  True False]\n"
          ]
        }
      ]
    },
    {
      "cell_type": "markdown",
      "metadata": {
        "id": "aiGbZbwHR3CJ"
      },
      "source": [
        "Change the 3 index element with a value of 22\n",
        "\n"
      ]
    },
    {
      "cell_type": "code",
      "metadata": {
        "id": "OMpH-wT6R7iK",
        "colab": {
          "base_uri": "https://localhost:8080/"
        },
        "outputId": "240344bc-b8fb-4b80-cbad-8c682c9137f0"
      },
      "source": [
        "import numpy as np\n",
        "\n",
        "age_array = np.array([18, 20, 19, 23, 19, 20])\n",
        "\n",
        "age_array[3] = 22\n",
        "\n",
        "print(age_array)\n"
      ],
      "execution_count": 26,
      "outputs": [
        {
          "output_type": "stream",
          "name": "stdout",
          "text": [
            "[18 20 19 22 19 20]\n"
          ]
        }
      ]
    },
    {
      "cell_type": "markdown",
      "metadata": {
        "id": "0DELnRV_R5Df"
      },
      "source": [
        "Print the 4 index element."
      ]
    },
    {
      "cell_type": "code",
      "metadata": {
        "id": "SOg99cxZR6ZX",
        "colab": {
          "base_uri": "https://localhost:8080/"
        },
        "outputId": "a953585f-9264-4cbe-888c-086ddc3f5c51"
      },
      "source": [
        "import numpy as np\n",
        "\n",
        "age_array = np.array([18, 20, 19, 22, 19, 20])\n",
        "\n",
        "element_at_index_4 = age_array[3]\n",
        "\n",
        "print(element_at_index_4)\n"
      ],
      "execution_count": 27,
      "outputs": [
        {
          "output_type": "stream",
          "name": "stdout",
          "text": [
            "22\n"
          ]
        }
      ]
    },
    {
      "cell_type": "code",
      "source": [
        "print(\"Presented by: Diego Castro Bahamon / Manuel Isaias Navarro\")"
      ],
      "metadata": {
        "id": "0fSXe3zVSs0N",
        "outputId": "541a3b54-dbb8-4d7c-8b1f-d9b776e3a043",
        "colab": {
          "base_uri": "https://localhost:8080/"
        }
      },
      "execution_count": 29,
      "outputs": [
        {
          "output_type": "stream",
          "name": "stdout",
          "text": [
            "Presented by: Diego Castro Bahamon / Manuel Isaias Navarro\n"
          ]
        }
      ]
    }
  ]
}